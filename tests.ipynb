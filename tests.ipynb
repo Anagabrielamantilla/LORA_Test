{
 "cells": [
  {
   "cell_type": "code",
   "execution_count": 1,
   "metadata": {},
   "outputs": [],
   "source": [
    "import matplotlib.pyplot as plt\n",
    "import numpy as np\n",
    "from utils import reshape_data, get_dataset"
   ]
  },
  {
   "cell_type": "code",
   "execution_count": 2,
   "metadata": {},
   "outputs": [
    {
     "name": "stderr",
     "output_type": "stream",
     "text": [
      "Downloading...\n",
      "From (original): https://drive.google.com/uc?id=1No-D6AOIHfXXpuh4AZVHfIjiP4Imo69T\n",
      "From (redirected): https://drive.google.com/uc?id=1No-D6AOIHfXXpuh4AZVHfIjiP4Imo69T&confirm=t&uuid=4d38a6c5-1199-401c-9a21-d666c46aa55a\n",
      "To: d:\\LORA_SEISMIC\\data\\dataset.npy\n",
      " 49%|████▉     | 3.34G/6.82G [04:53<04:54, 11.8MB/s] "
     ]
    }
   ],
   "source": [
    "get_dataset()"
   ]
  },
  {
   "cell_type": "code",
   "execution_count": null,
   "metadata": {},
   "outputs": [],
   "source": [
    "data_path = 'dataset.npy'\n",
    "number_degradations = 6\n",
    "reshape_data(data_path, number_degradations)"
   ]
  },
  {
   "cell_type": "code",
   "execution_count": null,
   "metadata": {},
   "outputs": [],
   "source": [
    "dataset = np.load(f'dataset_reshaped_{number_degradations}.npy', allow_pickle=True)\n",
    "print(dataset.shape); print(len(dataset))"
   ]
  },
  {
   "cell_type": "code",
   "execution_count": null,
   "metadata": {},
   "outputs": [],
   "source": [
    "fig, ax = plt.subplots(1, 1, figsize=(5, 5)) \n",
    "ax.imshow(dataset[0][0], cmap='seismic')\n",
    "plt.show()"
   ]
  },
  {
   "cell_type": "code",
   "execution_count": null,
   "metadata": {},
   "outputs": [],
   "source": []
  }
 ],
 "metadata": {
  "kernelspec": {
   "display_name": "leon_torch",
   "language": "python",
   "name": "python3"
  },
  "language_info": {
   "codemirror_mode": {
    "name": "ipython",
    "version": 3
   },
   "file_extension": ".py",
   "mimetype": "text/x-python",
   "name": "python",
   "nbconvert_exporter": "python",
   "pygments_lexer": "ipython3",
   "version": "3.9.18"
  }
 },
 "nbformat": 4,
 "nbformat_minor": 2
}
